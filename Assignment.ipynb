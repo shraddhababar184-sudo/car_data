{
 "cells": [
  {
   "cell_type": "code",
   "execution_count": 5,
   "id": "0c014ff8-d519-4268-89ca-67fff30de3ed",
   "metadata": {},
   "outputs": [],
   "source": [
    "import pandas as pd\n",
    "import numpy as np\n",
    "import matplotlib as plt\n",
    "import seaborn as sns"
   ]
  },
  {
   "cell_type": "code",
   "execution_count": 6,
   "id": "b66fb404-b488-435f-8aef-2fad441e9c05",
   "metadata": {},
   "outputs": [
    {
     "data": {
      "text/html": [
       "<div>\n",
       "<style scoped>\n",
       "    .dataframe tbody tr th:only-of-type {\n",
       "        vertical-align: middle;\n",
       "    }\n",
       "\n",
       "    .dataframe tbody tr th {\n",
       "        vertical-align: top;\n",
       "    }\n",
       "\n",
       "    .dataframe thead th {\n",
       "        text-align: right;\n",
       "    }\n",
       "</style>\n",
       "<table border=\"1\" class=\"dataframe\">\n",
       "  <thead>\n",
       "    <tr style=\"text-align: right;\">\n",
       "      <th></th>\n",
       "      <th>Car_Name</th>\n",
       "      <th>Year</th>\n",
       "      <th>Selling_Price</th>\n",
       "      <th>Present_Price</th>\n",
       "      <th>Kms_Driven</th>\n",
       "      <th>Fuel_Type</th>\n",
       "      <th>Seller_Type</th>\n",
       "      <th>Transmission</th>\n",
       "      <th>Owner</th>\n",
       "    </tr>\n",
       "  </thead>\n",
       "  <tbody>\n",
       "    <tr>\n",
       "      <th>0</th>\n",
       "      <td>ritz</td>\n",
       "      <td>2014</td>\n",
       "      <td>3.35</td>\n",
       "      <td>5.59</td>\n",
       "      <td>27000</td>\n",
       "      <td>Petrol</td>\n",
       "      <td>Dealer</td>\n",
       "      <td>Manual</td>\n",
       "      <td>0</td>\n",
       "    </tr>\n",
       "    <tr>\n",
       "      <th>1</th>\n",
       "      <td>sx4</td>\n",
       "      <td>2013</td>\n",
       "      <td>4.75</td>\n",
       "      <td>9.54</td>\n",
       "      <td>43000</td>\n",
       "      <td>Diesel</td>\n",
       "      <td>Dealer</td>\n",
       "      <td>Manual</td>\n",
       "      <td>0</td>\n",
       "    </tr>\n",
       "    <tr>\n",
       "      <th>2</th>\n",
       "      <td>ciaz</td>\n",
       "      <td>2017</td>\n",
       "      <td>7.25</td>\n",
       "      <td>9.85</td>\n",
       "      <td>6900</td>\n",
       "      <td>Petrol</td>\n",
       "      <td>Dealer</td>\n",
       "      <td>Manual</td>\n",
       "      <td>0</td>\n",
       "    </tr>\n",
       "    <tr>\n",
       "      <th>3</th>\n",
       "      <td>wagon r</td>\n",
       "      <td>2011</td>\n",
       "      <td>2.85</td>\n",
       "      <td>4.15</td>\n",
       "      <td>5200</td>\n",
       "      <td>Petrol</td>\n",
       "      <td>Dealer</td>\n",
       "      <td>Manual</td>\n",
       "      <td>0</td>\n",
       "    </tr>\n",
       "    <tr>\n",
       "      <th>4</th>\n",
       "      <td>swift</td>\n",
       "      <td>2014</td>\n",
       "      <td>4.60</td>\n",
       "      <td>6.87</td>\n",
       "      <td>42450</td>\n",
       "      <td>Diesel</td>\n",
       "      <td>Dealer</td>\n",
       "      <td>Manual</td>\n",
       "      <td>0</td>\n",
       "    </tr>\n",
       "    <tr>\n",
       "      <th>...</th>\n",
       "      <td>...</td>\n",
       "      <td>...</td>\n",
       "      <td>...</td>\n",
       "      <td>...</td>\n",
       "      <td>...</td>\n",
       "      <td>...</td>\n",
       "      <td>...</td>\n",
       "      <td>...</td>\n",
       "      <td>...</td>\n",
       "    </tr>\n",
       "    <tr>\n",
       "      <th>296</th>\n",
       "      <td>city</td>\n",
       "      <td>2016</td>\n",
       "      <td>9.50</td>\n",
       "      <td>11.60</td>\n",
       "      <td>33988</td>\n",
       "      <td>Diesel</td>\n",
       "      <td>Dealer</td>\n",
       "      <td>Manual</td>\n",
       "      <td>0</td>\n",
       "    </tr>\n",
       "    <tr>\n",
       "      <th>297</th>\n",
       "      <td>brio</td>\n",
       "      <td>2015</td>\n",
       "      <td>4.00</td>\n",
       "      <td>5.90</td>\n",
       "      <td>60000</td>\n",
       "      <td>Petrol</td>\n",
       "      <td>Dealer</td>\n",
       "      <td>Manual</td>\n",
       "      <td>0</td>\n",
       "    </tr>\n",
       "    <tr>\n",
       "      <th>298</th>\n",
       "      <td>city</td>\n",
       "      <td>2009</td>\n",
       "      <td>3.35</td>\n",
       "      <td>11.00</td>\n",
       "      <td>87934</td>\n",
       "      <td>Petrol</td>\n",
       "      <td>Dealer</td>\n",
       "      <td>Manual</td>\n",
       "      <td>0</td>\n",
       "    </tr>\n",
       "    <tr>\n",
       "      <th>299</th>\n",
       "      <td>city</td>\n",
       "      <td>2017</td>\n",
       "      <td>11.50</td>\n",
       "      <td>12.50</td>\n",
       "      <td>9000</td>\n",
       "      <td>Diesel</td>\n",
       "      <td>Dealer</td>\n",
       "      <td>Manual</td>\n",
       "      <td>0</td>\n",
       "    </tr>\n",
       "    <tr>\n",
       "      <th>300</th>\n",
       "      <td>brio</td>\n",
       "      <td>2016</td>\n",
       "      <td>5.30</td>\n",
       "      <td>5.90</td>\n",
       "      <td>5464</td>\n",
       "      <td>Petrol</td>\n",
       "      <td>Dealer</td>\n",
       "      <td>Manual</td>\n",
       "      <td>0</td>\n",
       "    </tr>\n",
       "  </tbody>\n",
       "</table>\n",
       "<p>301 rows × 9 columns</p>\n",
       "</div>"
      ],
      "text/plain": [
       "    Car_Name  Year  Selling_Price  Present_Price  Kms_Driven Fuel_Type  \\\n",
       "0       ritz  2014           3.35           5.59       27000    Petrol   \n",
       "1        sx4  2013           4.75           9.54       43000    Diesel   \n",
       "2       ciaz  2017           7.25           9.85        6900    Petrol   \n",
       "3    wagon r  2011           2.85           4.15        5200    Petrol   \n",
       "4      swift  2014           4.60           6.87       42450    Diesel   \n",
       "..       ...   ...            ...            ...         ...       ...   \n",
       "296     city  2016           9.50          11.60       33988    Diesel   \n",
       "297     brio  2015           4.00           5.90       60000    Petrol   \n",
       "298     city  2009           3.35          11.00       87934    Petrol   \n",
       "299     city  2017          11.50          12.50        9000    Diesel   \n",
       "300     brio  2016           5.30           5.90        5464    Petrol   \n",
       "\n",
       "    Seller_Type Transmission  Owner  \n",
       "0        Dealer       Manual      0  \n",
       "1        Dealer       Manual      0  \n",
       "2        Dealer       Manual      0  \n",
       "3        Dealer       Manual      0  \n",
       "4        Dealer       Manual      0  \n",
       "..          ...          ...    ...  \n",
       "296      Dealer       Manual      0  \n",
       "297      Dealer       Manual      0  \n",
       "298      Dealer       Manual      0  \n",
       "299      Dealer       Manual      0  \n",
       "300      Dealer       Manual      0  \n",
       "\n",
       "[301 rows x 9 columns]"
      ]
     },
     "execution_count": 6,
     "metadata": {},
     "output_type": "execute_result"
    }
   ],
   "source": [
    "\n",
    "# Load the dataset\n",
    "df = pd.read_csv(\"car_data.csv\")\n",
    "df"
   ]
  },
  {
   "cell_type": "code",
   "execution_count": 7,
   "id": "26cbacf2-5468-436c-9b21-27e0998510f0",
   "metadata": {},
   "outputs": [
    {
     "name": "stdout",
     "output_type": "stream",
     "text": [
      "\n",
      "13. Most Common Owner Count: 0\n"
     ]
    }
   ],
   "source": [
    "# 13. Most common owner count\n",
    "print(\"\\n13. Most Common Owner Count:\", df['Owner'].mode()[0])\n"
   ]
  },
  {
   "cell_type": "code",
   "execution_count": 8,
   "id": "ae54b2ca-93ee-42d1-a458-15bfe579b671",
   "metadata": {},
   "outputs": [
    {
     "name": "stdout",
     "output_type": "stream",
     "text": [
      "\n",
      "14. Average Kms Driven: 36947.20598006644\n"
     ]
    }
   ],
   "source": [
    "# 14. Avg Kms Driven\n",
    "print(\"\\n14. Average Kms Driven:\", df['Kms_Driven'].mean())\n"
   ]
  },
  {
   "cell_type": "code",
   "execution_count": 28,
   "id": "8d3c6ce4-bcda-4925-abbd-5c943a03cf39",
   "metadata": {},
   "outputs": [
    {
     "name": "stdout",
     "output_type": "stream",
     "text": [
      "\n",
      "15. Car with Highest Present Price:\n",
      "         Car_Name  Present_Price\n",
      "86  land cruiser           92.6\n"
     ]
    }
   ],
   "source": [
    "# 15. Car with highest Present Price\n",
    "most_exp_car = df[df['Present_Price'] == df['Present_Price'].max()]\n",
    "print(\"\\n15. Car with Highest Present Price:\\n\", most_exp_car[['Car_Name', 'Present_Price']])\n"
   ]
  },
  {
   "cell_type": "code",
   "execution_count": 10,
   "id": "ffdffefb-6829-46e1-a9db-044a7493ba68",
   "metadata": {},
   "outputs": [
    {
     "name": "stdout",
     "output_type": "stream",
     "text": [
      "\n",
      "16. Correlation:\n",
      "                Selling_Price  Present_Price  Kms_Driven\n",
      "Selling_Price       1.000000       0.878983    0.029187\n",
      "Present_Price       0.878983       1.000000    0.203647\n",
      "Kms_Driven          0.029187       0.203647    1.000000\n"
     ]
    }
   ],
   "source": [
    "# 16. Correlation matrix\n",
    "print(\"\\n16. Correlation:\\n\", df[['Selling_Price', 'Present_Price', 'Kms_Driven']].corr())\n"
   ]
  },
  {
   "cell_type": "code",
   "execution_count": 11,
   "id": "7c8fcc03-4739-4646-b1cd-28bf5453e846",
   "metadata": {},
   "outputs": [
    {
     "name": "stdout",
     "output_type": "stream",
     "text": [
      "\n",
      "17. Avg Selling Price by Seller Type:\n",
      " Seller_Type\n",
      "Dealer        6.721692\n",
      "Individual    0.870943\n",
      "Name: Selling_Price, dtype: float64\n"
     ]
    }
   ],
   "source": [
    "# 17. Avg Selling Price by Seller Type\n",
    "print(\"\\n17. Avg Selling Price by Seller Type:\\n\", df.groupby('Seller_Type')['Selling_Price'].mean())\n"
   ]
  },
  {
   "cell_type": "code",
   "execution_count": 12,
   "id": "411b8d12-64f8-40a3-88b9-84eeafa1fd37",
   "metadata": {},
   "outputs": [
    {
     "name": "stdout",
     "output_type": "stream",
     "text": [
      "\n",
      "18. Count of Fuel Types:\n",
      " Fuel_Type\n",
      "Petrol    239\n",
      "Diesel     60\n",
      "CNG         2\n",
      "Name: count, dtype: int64\n"
     ]
    }
   ],
   "source": [
    "# 18. Count of each Fuel Type\n",
    "print(\"\\n18. Count of Fuel Types:\\n\", df['Fuel_Type'].value_counts())"
   ]
  },
  {
   "cell_type": "code",
   "execution_count": 13,
   "id": "25800f20-93d1-431c-8ba3-3899b9125d59",
   "metadata": {},
   "outputs": [
    {
     "name": "stdout",
     "output_type": "stream",
     "text": [
      "\n",
      "19. Cars with >1 Owner: 1\n"
     ]
    }
   ],
   "source": [
    "# 19. Count of cars with more than 1 owner\n",
    "print(\"\\n19. Cars with >1 Owner:\", len(df[df['Owner'] > 1]))"
   ]
  },
  {
   "cell_type": "code",
   "execution_count": 14,
   "id": "476350b5-409e-48cd-9089-bc3477ce37be",
   "metadata": {},
   "outputs": [
    {
     "name": "stdout",
     "output_type": "stream",
     "text": [
      "\n",
      "20. Top 5 Most Expensive Cars:\n",
      "         Car_Name  Year  Selling_Price  Present_Price  Kms_Driven Fuel_Type  \\\n",
      "86  land cruiser  2010           35.0          92.60       78000    Diesel   \n",
      "64      fortuner  2017           33.0          36.23        6000    Diesel   \n",
      "63      fortuner  2015           23.5          35.96       47000    Diesel   \n",
      "51      fortuner  2015           23.0          30.61       40000    Diesel   \n",
      "93      fortuner  2015           23.0          30.61       40000    Diesel   \n",
      "\n",
      "   Seller_Type Transmission  Owner  \n",
      "86      Dealer       Manual      0  \n",
      "64      Dealer    Automatic      0  \n",
      "63      Dealer    Automatic      0  \n",
      "51      Dealer    Automatic      0  \n",
      "93      Dealer    Automatic      0  \n"
     ]
    }
   ],
   "source": [
    "# 20. Top 5 most expensive cars\n",
    "print(\"\\n20. Top 5 Most Expensive Cars:\\n\", df.sort_values(by='Selling_Price', ascending=False).head(5))\n"
   ]
  },
  {
   "cell_type": "code",
   "execution_count": 15,
   "id": "fb1233fa-2148-45cf-a884-d206b31ad72a",
   "metadata": {},
   "outputs": [
    {
     "name": "stdout",
     "output_type": "stream",
     "text": [
      "21. Average difference between Present_Price and Selling_Price: 2.967176079734219\n"
     ]
    }
   ],
   "source": [
    "# 21. Average difference between Present_Price and Selling_Price\n",
    "avg_diff = (df['Present_Price'] - df['Selling_Price']).mean()\n",
    "print(\"21. Average difference between Present_Price and Selling_Price:\", avg_diff)\n"
   ]
  },
  {
   "cell_type": "code",
   "execution_count": 16,
   "id": "c3b7ceb5-2303-4dcf-8d14-f98a0b4432af",
   "metadata": {},
   "outputs": [
    {
     "name": "stdout",
     "output_type": "stream",
     "text": [
      "\n",
      "22. Cars sold by Seller_Type:\n",
      " Seller_Type\n",
      "Dealer        195\n",
      "Individual    106\n",
      "Name: count, dtype: int64\n"
     ]
    }
   ],
   "source": [
    "# 22. Number of cars sold by Individual vs Dealer\n",
    "seller_counts = df['Seller_Type'].value_counts()\n",
    "print(\"\\n22. Cars sold by Seller_Type:\\n\", seller_counts)\n"
   ]
  },
  {
   "cell_type": "code",
   "execution_count": 17,
   "id": "0ba8ed66-ddf2-46dd-85cd-4b9147536502",
   "metadata": {},
   "outputs": [
    {
     "name": "stdout",
     "output_type": "stream",
     "text": [
      "\n",
      "23. Cars manufactured before 2010: 26\n"
     ]
    }
   ],
   "source": [
    "# 23. Number of cars manufactured before 2010\n",
    "before_2010 = df[df['Year'] < 2010].shape[0]\n",
    "print(\"\\n23. Cars manufactured before 2010:\", before_2010)\n",
    "\n"
   ]
  },
  {
   "cell_type": "code",
   "execution_count": 18,
   "id": "14142b8c-13a0-4ab5-92c3-1f31e2a1168c",
   "metadata": {},
   "outputs": [
    {
     "name": "stdout",
     "output_type": "stream",
     "text": [
      "\n",
      "24. Year with highest listings: 2015 with 61 cars\n"
     ]
    }
   ],
   "source": [
    "# 24. Year with highest number of car listings\n",
    "year_counts = df['Year'].value_counts()\n",
    "top_year = year_counts.idxmax()\n",
    "print(\"\\n24. Year with highest listings:\", top_year, \"with\", year_counts.max(), \"cars\")\n"
   ]
  },
  {
   "cell_type": "code",
   "execution_count": 19,
   "id": "041704b0-5571-4e54-ae13-38b761dceaf7",
   "metadata": {},
   "outputs": [
    {
     "name": "stdout",
     "output_type": "stream",
     "text": [
      "\n",
      "25. Percentage of cars by Fuel_Type:\n",
      " Fuel_Type\n",
      "Petrol    79.401993\n",
      "Diesel    19.933555\n",
      "CNG        0.664452\n",
      "Name: proportion, dtype: float64\n"
     ]
    }
   ],
   "source": [
    "# 25. Percentage of cars by fuel type\n",
    "fuel_percent = df['Fuel_Type'].value_counts(normalize=True) * 100\n",
    "print(\"\\n25. Percentage of cars by Fuel_Type:\\n\", fuel_percent)\n"
   ]
  },
  {
   "cell_type": "code",
   "execution_count": 20,
   "id": "b1605c2f-e1d5-4015-825d-7af1ca5c05c9",
   "metadata": {},
   "outputs": [
    {
     "name": "stdout",
     "output_type": "stream",
     "text": [
      "\n",
      "26. Kms_Driven stats by Fuel_Type:\n",
      "              min     max\n",
      "Fuel_Type               \n",
      "CNG        35500   49998\n",
      "Diesel      2071  197176\n",
      "Petrol       500  500000\n"
     ]
    }
   ],
   "source": [
    "# 26. Highest and lowest Kms_Driven for each fuel type\n",
    "kms_stats = df.groupby('Fuel_Type')['Kms_Driven'].agg(['min', 'max'])\n",
    "print(\"\\n26. Kms_Driven stats by Fuel_Type:\\n\", kms_stats)\n"
   ]
  },
  {
   "cell_type": "code",
   "execution_count": 26,
   "id": "67890f78-8a68-45db-8811-ccd8326ac146",
   "metadata": {},
   "outputs": [
    {
     "name": "stdout",
     "output_type": "stream",
     "text": [
      "\n",
      "27. Cars with 0 previous owners: 290\n"
     ]
    }
   ],
   "source": [
    "# 27. Number of cars with exactly 0 previous owners\n",
    "zero_owner = df[df['Owner'] == 0].shape[0]\n",
    "print(\"\\n27. Cars with 0 previous owners:\", zero_owner)\n",
    "\n"
   ]
  },
  {
   "cell_type": "code",
   "execution_count": 22,
   "id": "00fed435-067c-4ab2-b85e-afdcd8396660",
   "metadata": {},
   "outputs": [
    {
     "name": "stdout",
     "output_type": "stream",
     "text": [
      "\n",
      "28. Unique Fuel_Type, Seller_Type, Transmission combinations: 8\n"
     ]
    }
   ],
   "source": [
    "# 28. Unique combinations of Fuel_Type, Seller_Type, and Transmission\n",
    "unique_combos = df[['Fuel_Type', 'Seller_Type', 'Transmission']].drop_duplicates().shape[0]\n",
    "print(\"\\n28. Unique Fuel_Type, Seller_Type, Transmission combinations:\", unique_combos)"
   ]
  },
  {
   "cell_type": "code",
   "execution_count": 23,
   "id": "0a6abc3c-517a-428a-a7a7-776b62992105",
   "metadata": {},
   "outputs": [
    {
     "name": "stdout",
     "output_type": "stream",
     "text": [
      "\n",
      "29. Avg Selling_Price with >2 owners: 2.5\n"
     ]
    }
   ],
   "source": [
    "# 29. Average Selling_Price of cars with more than 2 previous owners\n",
    "avg_price_over2_owners = df[df['Owner'] > 2]['Selling_Price'].mean()\n",
    "print(\"\\n29. Avg Selling_Price with >2 owners:\", avg_price_over2_owners)\n"
   ]
  },
  {
   "cell_type": "code",
   "execution_count": 25,
   "id": "562a5fe5-c425-45ae-b714-bfd0cec0f61d",
   "metadata": {},
   "outputs": [
    {
     "name": "stdout",
     "output_type": "stream",
     "text": [
      "\n",
      "30. Cars with Selling_Price > Present_Price: 0\n"
     ]
    }
   ],
   "source": [
    "# 30. Cars where Selling_Price is greater than Present_Price\n",
    "selling_gt_present = df[df['Selling_Price'] > df['Present_Price']].shape[0]\n",
    "print(\"\\n30. Cars with Selling_Price > Present_Price:\", selling_gt_present)"
   ]
  },
  {
   "cell_type": "code",
   "execution_count": null,
   "id": "07b8de53-5f94-487a-aad9-ca89de485542",
   "metadata": {},
   "outputs": [],
   "source": []
  }
 ],
 "metadata": {
  "kernelspec": {
   "display_name": "Python 3 (ipykernel)",
   "language": "python",
   "name": "python3"
  },
  "language_info": {
   "codemirror_mode": {
    "name": "ipython",
    "version": 3
   },
   "file_extension": ".py",
   "mimetype": "text/x-python",
   "name": "python",
   "nbconvert_exporter": "python",
   "pygments_lexer": "ipython3",
   "version": "3.13.5"
  }
 },
 "nbformat": 4,
 "nbformat_minor": 5
}
